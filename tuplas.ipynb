{
  "nbformat": 4,
  "nbformat_minor": 0,
  "metadata": {
    "colab": {
      "provenance": [],
      "authorship_tag": "ABX9TyMqFHEslNp8tSgy9+AqXtz2",
      "include_colab_link": true
    },
    "kernelspec": {
      "name": "python3",
      "display_name": "Python 3"
    },
    "language_info": {
      "name": "python"
    }
  },
  "cells": [
    {
      "cell_type": "markdown",
      "metadata": {
        "id": "view-in-github",
        "colab_type": "text"
      },
      "source": [
        "<a href=\"https://colab.research.google.com/github/apicem7217/Clase-5/blob/Phyton/tuplas.ipynb\" target=\"_parent\"><img src=\"https://colab.research.google.com/assets/colab-badge.svg\" alt=\"Open In Colab\"/></a>"
      ]
    },
    {
      "cell_type": "code",
      "execution_count": 14,
      "metadata": {
        "id": "z1LKGK22B5WE"
      },
      "outputs": [],
      "source": [
        "def claculare_circle(lado1, lado2, color):\n",
        "  \"\"\"calculo con tuplas\"\"\"\n",
        "  area = lado1 * lado2\n",
        "  perimeter = lado1 * 2 + lado2 * 2\n",
        "  color\n",
        "\n",
        "  return (area, perimeter, color)"
      ]
    },
    {
      "cell_type": "code",
      "source": [
        "tupla = (\"lado1\", \"lado2\", \"color\")"
      ],
      "metadata": {
        "id": "CI0Q0LMXL1Qw"
      },
      "execution_count": 7,
      "outputs": []
    },
    {
      "cell_type": "code",
      "source": [
        "tupla = (\"2\", \"3\", \"rojo\")"
      ],
      "metadata": {
        "id": "r6k0efMOMMxy"
      },
      "execution_count": 9,
      "outputs": []
    },
    {
      "cell_type": "code",
      "source": [
        "lado1 = 2\n",
        "lado2 = 4\n",
        "\n"
      ],
      "metadata": {
        "id": "X2Dgck9jLYin"
      },
      "execution_count": 10,
      "outputs": []
    },
    {
      "cell_type": "code",
      "source": [
        "tupla\n",
        "print (area)\n"
      ],
      "metadata": {
        "colab": {
          "base_uri": "https://localhost:8080/",
          "height": 183
        },
        "id": "p3ZDumCvMkEh",
        "outputId": "d5c4329c-bc09-4bd3-a9f5-e20a07a14074"
      },
      "execution_count": 13,
      "outputs": [
        {
          "output_type": "error",
          "ename": "NameError",
          "evalue": "ignored",
          "traceback": [
            "\u001b[0;31m---------------------------------------------------------------------------\u001b[0m",
            "\u001b[0;31mNameError\u001b[0m                                 Traceback (most recent call last)",
            "\u001b[0;32m<ipython-input-13-f0ac8e23fba8>\u001b[0m in \u001b[0;36m<cell line: 2>\u001b[0;34m()\u001b[0m\n\u001b[1;32m      1\u001b[0m \u001b[0mtupla\u001b[0m\u001b[0;34m\u001b[0m\u001b[0;34m\u001b[0m\u001b[0m\n\u001b[0;32m----> 2\u001b[0;31m \u001b[0mprint\u001b[0m \u001b[0;34m(\u001b[0m\u001b[0marea\u001b[0m\u001b[0;34m)\u001b[0m\u001b[0;34m\u001b[0m\u001b[0;34m\u001b[0m\u001b[0m\n\u001b[0m",
            "\u001b[0;31mNameError\u001b[0m: name 'area' is not defined"
          ]
        }
      ]
    }
  ]
}