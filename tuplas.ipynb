{
  "nbformat": 4,
  "nbformat_minor": 0,
  "metadata": {
    "colab": {
      "provenance": [],
      "authorship_tag": "ABX9TyNfLrgiXCdCkqvfC2GVP4IJ",
      "include_colab_link": true
    },
    "kernelspec": {
      "name": "python3",
      "display_name": "Python 3"
    },
    "language_info": {
      "name": "python"
    }
  },
  "cells": [
    {
      "cell_type": "markdown",
      "metadata": {
        "id": "view-in-github",
        "colab_type": "text"
      },
      "source": [
        "<a href=\"https://colab.research.google.com/github/apicem7217/Clase-5/blob/Phyton/tuplas.ipynb\" target=\"_parent\"><img src=\"https://colab.research.google.com/assets/colab-badge.svg\" alt=\"Open In Colab\"/></a>"
      ]
    },
    {
      "cell_type": "code",
      "execution_count": 14,
      "metadata": {
        "id": "z1LKGK22B5WE"
      },
      "outputs": [],
      "source": [
        "def claculare_circle(lado1, lado2, color):\n",
        "  \"\"\"calculo con tuplas\"\"\"\n",
        "  area = lado1 * lado2\n",
        "  perimeter = lado1 * 2 + lado2 * 2\n",
        "  color\n",
        "\n",
        "  return (area, perimeter, color)"
      ]
    },
    {
      "cell_type": "code",
      "source": [
        "tupla = (\"lado1\", \"lado2\", \"color\")"
      ],
      "metadata": {
        "id": "CI0Q0LMXL1Qw"
      },
      "execution_count": 17,
      "outputs": []
    },
    {
      "cell_type": "code",
      "source": [
        "tupla = (\"2\", \"3\", \"rojo\")"
      ],
      "metadata": {
        "id": "r6k0efMOMMxy"
      },
      "execution_count": 18,
      "outputs": []
    },
    {
      "cell_type": "code",
      "source": [
        "lado1 = 2\n",
        "lado2 = 4\n",
        "\n"
      ],
      "metadata": {
        "id": "X2Dgck9jLYin"
      },
      "execution_count": 16,
      "outputs": []
    },
    {
      "cell_type": "code",
      "source": [
        "\n"
      ],
      "metadata": {
        "id": "p3ZDumCvMkEh"
      },
      "execution_count": 15,
      "outputs": []
    }
  ]
}