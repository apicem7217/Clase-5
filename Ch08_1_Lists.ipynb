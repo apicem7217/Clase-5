{
  "cells": [
    {
      "cell_type": "markdown",
      "metadata": {
        "id": "view-in-github",
        "colab_type": "text"
      },
      "source": [
        "<a href=\"https://colab.research.google.com/github/apicem7217/Clase-5/blob/Phyton/Ch08_1_Lists.ipynb\" target=\"_parent\"><img src=\"https://colab.research.google.com/assets/colab-badge.svg\" alt=\"Open In Colab\"/></a>"
      ]
    },
    {
      "cell_type": "markdown",
      "metadata": {
        "id": "0X-5odFACf6w"
      },
      "source": [
        "# 8 Lists\n",
        "<a href=\"https://colab.research.google.com/github/rambasnet/FDSPython-Notebooks/blob/master/Ch08-1-Lists.ipynb\" target=\"_parent\"><img src=\"https://colab.research.google.com/assets/colab-badge.svg\" alt=\"Open In Colab\"/></a>\n",
        "\n",
        "- http://openbookproject.net/thinkcs/python/english3e/lists.html\n",
        "\n",
        "## Topics\n",
        "- list data structure\n",
        "- syntax to create lists\n",
        "- methods or operations provided to list objects\n",
        "- list operators\n",
        "- list traversal\n",
        "- list applications and problems\n",
        "\n",
        "## 8.1 Lists\n",
        "- a type of sequence or container\n",
        "- ordered collection of values called elements or items\n",
        "- lists are similar to strings (ordered collections of characters) except that elements of a list can be of any type"
      ]
    },
    {
      "cell_type": "markdown",
      "metadata": {
        "id": "4UbdibK4Cf6x"
      },
      "source": [
        "## 8.2 Creating lists\n",
        "- several ways; the simplest is to enclose the elements in square brackets [ ]"
      ]
    },
    {
      "cell_type": "code",
      "execution_count": null,
      "metadata": {
        "id": "8fCYwiYMCf6x"
      },
      "outputs": [],
      "source": [
        "alist = [] # an empty list"
      ]
    },
    {
      "cell_type": "code",
      "execution_count": null,
      "metadata": {
        "id": "yJrvpqK1Cf6y"
      },
      "outputs": [],
      "source": [
        "blist = list() # an empty list"
      ]
    },
    {
      "cell_type": "code",
      "execution_count": null,
      "metadata": {
        "colab": {
          "base_uri": "https://localhost:8080/"
        },
        "id": "Rdw3qpOVCf6y",
        "outputId": "06a9d64f-c6c5-4d83-e10f-9c94ba1bb8f6"
      },
      "outputs": [
        {
          "output_type": "execute_result",
          "data": {
            "text/plain": [
              "list"
            ]
          },
          "metadata": {},
          "execution_count": 21
        }
      ],
      "source": [
        "type(alist)"
      ]
    },
    {
      "cell_type": "code",
      "execution_count": null,
      "metadata": {
        "id": "sLlHb6uSCf6z"
      },
      "outputs": [],
      "source": [
        "# creating lists with some elements of same type\n",
        "list1 = [10, 20, 30, 40]\n",
        "list2 = ['spam', 'bungee', 'swallow']"
      ]
    },
    {
      "cell_type": "code",
      "execution_count": null,
      "metadata": {
        "id": "peKjVNWSCf6z"
      },
      "outputs": [],
      "source": [
        "# lists with elements of different types\n",
        "list3 = [\"hello\", 2.0, 10, [10, ('hi', 'world'), 3.5], (1, 'uno')]"
      ]
    },
    {
      "cell_type": "code",
      "execution_count": null,
      "metadata": {
        "colab": {
          "base_uri": "https://localhost:8080/"
        },
        "id": "YOxYU6r2Cf6z",
        "outputId": "dfc584ce-c286-4c4a-d112-8ebfd920e173"
      },
      "outputs": [
        {
          "output_type": "stream",
          "name": "stdout",
          "text": [
            "['hello', 2.0, 10, [10, ('hi', 'world'), 3.5], (1, 'uno')]\n"
          ]
        }
      ],
      "source": [
        "# print list\n",
        "print(list3)"
      ]
    },
    {
      "cell_type": "code",
      "execution_count": null,
      "metadata": {
        "id": "zRsiAl9QCf6z"
      },
      "outputs": [],
      "source": [
        "# quickly create a list of range of numbers between 1 and 19\n",
        "list4 = list(range(1, 20, 1))"
      ]
    },
    {
      "cell_type": "code",
      "execution_count": null,
      "metadata": {
        "colab": {
          "base_uri": "https://localhost:8080/"
        },
        "id": "mZJtSH-YCf6z",
        "outputId": "179ea07e-f07e-4411-f20b-59320e4b9781"
      },
      "outputs": [
        {
          "output_type": "stream",
          "name": "stdout",
          "text": [
            "[1, 2, 3, 4, 5, 6, 7, 8, 9, 10, 11, 12, 13, 14, 15, 16, 17, 18, 19]\n"
          ]
        }
      ],
      "source": [
        "print(list4)"
      ]
    },
    {
      "cell_type": "code",
      "execution_count": null,
      "metadata": {
        "colab": {
          "base_uri": "https://localhost:8080/"
        },
        "id": "j48s73L0Cf6z",
        "outputId": "fcb658a5-aa73-48fa-ff56-7eecc5cbb3b6"
      },
      "outputs": [
        {
          "output_type": "stream",
          "name": "stdout",
          "text": [
            "[] [10, 20, 30, 40] ['spam', 'bungee', 'swallow'] ['hello', 2.0, 10, [10, ('hi', 'world'), 3.5], (1, 'uno')]\n"
          ]
        }
      ],
      "source": [
        "# print multiple lists\n",
        "print(alist, list1, list2, list3)"
      ]
    },
    {
      "cell_type": "code",
      "execution_count": null,
      "metadata": {
        "id": "IOKd0M3ZCf60"
      },
      "outputs": [],
      "source": [
        "# Exercise: create a list of even numbers between 1 and 20 inclusive"
      ]
    },
    {
      "cell_type": "code",
      "execution_count": null,
      "metadata": {
        "id": "6p1RubrFCf60"
      },
      "outputs": [],
      "source": [
        "# Exercise: create a list of odd numbers between 1 and 20 inclusive"
      ]
    },
    {
      "cell_type": "code",
      "execution_count": null,
      "metadata": {
        "id": "YTsKbZSTCf60"
      },
      "outputs": [],
      "source": [
        "# Exercise: create a list of numbers from 20 to 1 inclusive"
      ]
    },
    {
      "cell_type": "markdown",
      "metadata": {
        "id": "78E18d_wCf60"
      },
      "source": [
        "## 8.3 Accessing elements\n",
        "- same syntax for accessing characters of a string, the index operator: ['index']"
      ]
    },
    {
      "cell_type": "code",
      "execution_count": null,
      "metadata": {
        "colab": {
          "base_uri": "https://localhost:8080/"
        },
        "id": "5wv8f8oQCf60",
        "outputId": "f1e13a1f-8119-480d-c904-a538e4061040"
      },
      "outputs": [
        {
          "output_type": "execute_result",
          "data": {
            "text/plain": [
              "[10, 20, 30, 40]"
            ]
          },
          "metadata": {},
          "execution_count": 31
        }
      ],
      "source": [
        "# let's see what elements are in list1\n",
        "list1"
      ]
    },
    {
      "cell_type": "code",
      "execution_count": null,
      "metadata": {
        "colab": {
          "base_uri": "https://localhost:8080/"
        },
        "id": "0yYYQGckCf60",
        "outputId": "9fa8c014-8340-454a-dc9c-dfb9e6369fd6"
      },
      "outputs": [
        {
          "output_type": "execute_result",
          "data": {
            "text/plain": [
              "10"
            ]
          },
          "metadata": {},
          "execution_count": 32
        }
      ],
      "source": [
        "# access an element, which one?\n",
        "list1[0]"
      ]
    },
    {
      "cell_type": "code",
      "execution_count": null,
      "metadata": {
        "colab": {
          "base_uri": "https://localhost:8080/"
        },
        "id": "HY09Mjg5Cf60",
        "outputId": "054ea0be-565f-4a62-e730-fe9ff991323c"
      },
      "outputs": [
        {
          "output_type": "execute_result",
          "data": {
            "text/plain": [
              "['hello', 2.0, 10, [10, ('hi', 'world'), 3.5], (1, 'uno')]"
            ]
          },
          "metadata": {},
          "execution_count": 33
        }
      ],
      "source": [
        "list3"
      ]
    },
    {
      "cell_type": "code",
      "execution_count": null,
      "metadata": {
        "colab": {
          "base_uri": "https://localhost:8080/",
          "height": 35
        },
        "id": "oPcqTTHwCf60",
        "outputId": "c132838f-d86c-4e8c-b720-037c6048b4d1"
      },
      "outputs": [
        {
          "output_type": "execute_result",
          "data": {
            "text/plain": [
              "'hello'"
            ],
            "application/vnd.google.colaboratory.intrinsic+json": {
              "type": "string"
            }
          },
          "metadata": {},
          "execution_count": 34
        }
      ],
      "source": [
        "list3[2-2]"
      ]
    },
    {
      "cell_type": "code",
      "execution_count": null,
      "metadata": {
        "colab": {
          "base_uri": "https://localhost:8080/"
        },
        "id": "_ZlPlAK6Cf60",
        "outputId": "37b82242-6a68-4188-9f61-4a202b3a6ea9"
      },
      "outputs": [
        {
          "output_type": "stream",
          "name": "stdout",
          "text": [
            "hello\n"
          ]
        }
      ],
      "source": [
        "# list index can be variable as well\n",
        "index = 0\n",
        "print(list3[index])"
      ]
    },
    {
      "cell_type": "code",
      "execution_count": null,
      "metadata": {
        "colab": {
          "base_uri": "https://localhost:8080/",
          "height": 183
        },
        "id": "GvndVW8wCf61",
        "outputId": "ebfebc71-7860-4a39-ad33-2a0d24d93232"
      },
      "outputs": [
        {
          "output_type": "error",
          "ename": "TypeError",
          "evalue": "ignored",
          "traceback": [
            "\u001b[0;31m---------------------------------------------------------------------------\u001b[0m",
            "\u001b[0;31mTypeError\u001b[0m                                 Traceback (most recent call last)",
            "\u001b[0;32m<ipython-input-36-1fc6b2fe2f36>\u001b[0m in \u001b[0;36m<cell line: 2>\u001b[0;34m()\u001b[0m\n\u001b[1;32m      1\u001b[0m \u001b[0;31m# can you use float value as an index?\u001b[0m\u001b[0;34m\u001b[0m\u001b[0;34m\u001b[0m\u001b[0m\n\u001b[0;32m----> 2\u001b[0;31m \u001b[0mlist3\u001b[0m\u001b[0;34m[\u001b[0m\u001b[0;36m1.0\u001b[0m\u001b[0;34m]\u001b[0m\u001b[0;34m\u001b[0m\u001b[0;34m\u001b[0m\u001b[0m\n\u001b[0m",
            "\u001b[0;31mTypeError\u001b[0m: list indices must be integers or slices, not float"
          ]
        }
      ],
      "source": [
        "# can you use float value as an index?\n",
        "list3[1.0]"
      ]
    },
    {
      "cell_type": "code",
      "execution_count": null,
      "metadata": {
        "colab": {
          "base_uri": "https://localhost:8080/"
        },
        "id": "CIjP0XF5Cf61",
        "outputId": "9267c506-2366-4db6-f84a-01b5c02e749d"
      },
      "outputs": [
        {
          "output_type": "execute_result",
          "data": {
            "text/plain": [
              "5"
            ]
          },
          "metadata": {},
          "execution_count": 37
        }
      ],
      "source": [
        "# how many elements are there in list3?\n",
        "len(list3)"
      ]
    },
    {
      "cell_type": "code",
      "execution_count": null,
      "metadata": {
        "colab": {
          "base_uri": "https://localhost:8080/",
          "height": 183
        },
        "id": "NS2Fa-ZUCf61",
        "outputId": "4d4077e3-2e8e-4562-a790-88dc68cee96a"
      },
      "outputs": [
        {
          "output_type": "error",
          "ename": "IndexError",
          "evalue": "ignored",
          "traceback": [
            "\u001b[0;31m---------------------------------------------------------------------------\u001b[0m",
            "\u001b[0;31mIndexError\u001b[0m                                Traceback (most recent call last)",
            "\u001b[0;32m<ipython-input-38-207cd7e1c880>\u001b[0m in \u001b[0;36m<cell line: 2>\u001b[0;34m()\u001b[0m\n\u001b[1;32m      1\u001b[0m \u001b[0;31m# what happens if you access an index equal to the size of the list\u001b[0m\u001b[0;34m\u001b[0m\u001b[0;34m\u001b[0m\u001b[0m\n\u001b[0;32m----> 2\u001b[0;31m \u001b[0mlist3\u001b[0m\u001b[0;34m[\u001b[0m\u001b[0;36m5\u001b[0m\u001b[0;34m]\u001b[0m\u001b[0;34m\u001b[0m\u001b[0;34m\u001b[0m\u001b[0m\n\u001b[0m",
            "\u001b[0;31mIndexError\u001b[0m: list index out of range"
          ]
        }
      ],
      "source": [
        "# what happens if you access an index equal to the size of the list\n",
        "list3[5]"
      ]
    },
    {
      "cell_type": "code",
      "execution_count": null,
      "metadata": {
        "colab": {
          "base_uri": "https://localhost:8080/"
        },
        "id": "0gcC0qzRCf61",
        "outputId": "51d5ce19-fd09-450a-f8c9-86c1e893c114"
      },
      "outputs": [
        {
          "output_type": "execute_result",
          "data": {
            "text/plain": [
              "['hello', 2.0, 10, [10, ('hi', 'world'), 3.5], (1, 'uno')]"
            ]
          },
          "metadata": {},
          "execution_count": 39
        }
      ],
      "source": [
        "list3"
      ]
    },
    {
      "cell_type": "code",
      "execution_count": null,
      "metadata": {
        "colab": {
          "base_uri": "https://localhost:8080/"
        },
        "id": "MzpmS1xyCf61",
        "outputId": "e8c02000-7f2c-45fa-dd6e-05b58d0fec2a"
      },
      "outputs": [
        {
          "output_type": "execute_result",
          "data": {
            "text/plain": [
              "(1, 'uno')"
            ]
          },
          "metadata": {},
          "execution_count": 49
        }
      ],
      "source": [
        "# Ejercicio: accede e imprime el último elemento de list3\n",
        "elemento = list3[-1]\n",
        "elemento"
      ]
    },
    {
      "cell_type": "code",
      "execution_count": null,
      "metadata": {
        "colab": {
          "base_uri": "https://localhost:8080/",
          "height": 35
        },
        "id": "2pOMbKJLCf61",
        "outputId": "80ff773d-fd12-4a0a-811a-b6de32cf0a54"
      },
      "outputs": [
        {
          "output_type": "execute_result",
          "data": {
            "text/plain": [
              "'world'"
            ],
            "application/vnd.google.colaboratory.intrinsic+json": {
              "type": "string"
            }
          },
          "metadata": {},
          "execution_count": 48
        }
      ],
      "source": [
        "# Exercise - access and print 'world' in list3\n",
        "elemento = list3[3][1][1]\n",
        "elemento"
      ]
    },
    {
      "cell_type": "markdown",
      "metadata": {
        "id": "ceScFtmhCf61"
      },
      "source": [
        "## 8.4 Afiliación\n",
        "comprobar si algún dato/objeto es un miembro/elemento en la lista dada\n",
        "en y no en operadores booleanos vamos a verificar la membresía"
      ]
    },
    {
      "cell_type": "code",
      "execution_count": null,
      "metadata": {
        "colab": {
          "base_uri": "https://localhost:8080/"
        },
        "id": "Lbtbz4V_Cf61",
        "outputId": "761d22f8-1e36-4029-f2e0-c4ff11889eeb"
      },
      "outputs": [
        {
          "output_type": "execute_result",
          "data": {
            "text/plain": [
              "False"
            ]
          },
          "metadata": {},
          "execution_count": 53
        }
      ],
      "source": [
        "horsemen = [\"war\", \"famine\", \"pestilence\", [\"death\"]]\n",
        "'death' in horsemen"
      ]
    },
    {
      "cell_type": "code",
      "execution_count": null,
      "metadata": {
        "colab": {
          "base_uri": "https://localhost:8080/"
        },
        "id": "R3ndLN7VCf61",
        "outputId": "d7c36dff-c90f-4cb2-8df5-eb33734e8594"
      },
      "outputs": [
        {
          "output_type": "execute_result",
          "data": {
            "text/plain": [
              "True"
            ]
          },
          "metadata": {},
          "execution_count": 54
        }
      ],
      "source": [
        "'War' not in horsemen"
      ]
    },
    {
      "cell_type": "code",
      "execution_count": null,
      "metadata": {
        "colab": {
          "base_uri": "https://localhost:8080/"
        },
        "id": "AFBg8hctCf61",
        "outputId": "a9785ea9-7395-447f-d37a-e7da48fe725c"
      },
      "outputs": [
        {
          "output_type": "execute_result",
          "data": {
            "text/plain": [
              "True"
            ]
          },
          "metadata": {},
          "execution_count": 55
        }
      ],
      "source": [
        "[\"death\"] in horsemen"
      ]
    },
    {
      "cell_type": "markdown",
      "metadata": {
        "id": "eszoNNtJCf62"
      },
      "source": [
        "## 8.5 Listas de desplazamiento\n",
        "for o while loop se puede usar para recorrer cada elemento de una lista"
      ]
    },
    {
      "cell_type": "code",
      "execution_count": null,
      "metadata": {
        "colab": {
          "base_uri": "https://localhost:8080/"
        },
        "id": "qkLQDKbECf62",
        "outputId": "7e47fde7-fa3f-4bc9-c6d5-b98cd66c1a3e"
      },
      "outputs": [
        {
          "output_type": "execute_result",
          "data": {
            "text/plain": [
              "['hello', 2.0, 10, [10, ('hi', 'world'), 3.5], (1, 'uno')]"
            ]
          },
          "metadata": {},
          "execution_count": 56
        }
      ],
      "source": [
        "list3"
      ]
    },
    {
      "cell_type": "code",
      "execution_count": null,
      "metadata": {
        "id": "CEvD1yqICf62"
      },
      "outputs": [],
      "source": [
        "# common technique; use for loop\n",
        "for item in list3:\n",
        "    print(item)"
      ]
    },
    {
      "cell_type": "code",
      "execution_count": null,
      "metadata": {
        "colab": {
          "base_uri": "https://localhost:8080/"
        },
        "id": "KC5QxnjICf62",
        "outputId": "bb06b8b0-19e9-4c88-e780-796f6ee27cfc"
      },
      "outputs": [
        {
          "output_type": "stream",
          "name": "stdout",
          "text": [
            "hello\n",
            "2.0\n",
            "10\n",
            "10\n",
            "('hi', 'world')\n",
            "3.5\n",
            "1\n",
            "uno\n"
          ]
        }
      ],
      "source": [
        "for item in list3:\n",
        "    if isinstance(item, list) or isinstance(item, tuple):\n",
        "        for l in item:\n",
        "            print(l)\n",
        "    else:\n",
        "        print(item)"
      ]
    },
    {
      "cell_type": "code",
      "execution_count": null,
      "metadata": {
        "colab": {
          "base_uri": "https://localhost:8080/"
        },
        "id": "ojftXr6sCf62",
        "outputId": "3aac3f73-a844-4fd5-990e-02ec461ecf61"
      },
      "outputs": [
        {
          "output_type": "stream",
          "name": "stdout",
          "text": [
            "war\n",
            "famine\n",
            "pestilence\n",
            "death\n"
          ]
        }
      ],
      "source": [
        "horsemen = [\"war\", \"famine\", \"pestilence\", \"death\"]\n",
        "for i in [0, 1, 2, 3]:\n",
        "    print(horsemen[i])\n",
        "# better way to do the same thing?"
      ]
    },
    {
      "cell_type": "code",
      "execution_count": null,
      "metadata": {
        "colab": {
          "base_uri": "https://localhost:8080/"
        },
        "id": "qbTvQeodCf62",
        "outputId": "26296e48-a04e-4bcc-b19a-5e6e2ad31d7d"
      },
      "outputs": [
        {
          "output_type": "stream",
          "name": "stdout",
          "text": [
            "traversing using indices\n",
            "war\n",
            "famine\n",
            "pestilence\n",
            "death\n"
          ]
        }
      ],
      "source": [
        "print(\"traversing using indices\")\n",
        "for i in range(len(horsemen)):\n",
        "    print(horsemen[i])"
      ]
    },
    {
      "cell_type": "code",
      "execution_count": null,
      "metadata": {
        "colab": {
          "base_uri": "https://localhost:8080/"
        },
        "id": "iAvcKgC2Cf62",
        "outputId": "ff37f205-06d5-45ae-9a49-3e4073d1e45c"
      },
      "outputs": [
        {
          "output_type": "stream",
          "name": "stdout",
          "text": [
            "traversing each element\n",
            "war\n",
            "famine\n",
            "pestilence\n",
            "death\n"
          ]
        }
      ],
      "source": [
        "print('traversing each element')\n",
        "for ele in horsemen:\n",
        "    print(ele)"
      ]
    },
    {
      "cell_type": "markdown",
      "metadata": {
        "id": "PPNFv6otCf62"
      },
      "source": [
        "## 8.6 operadores de lista\n",
        "- El operador \\+ concatena dos listas y da una lista más grande\n",
        "- El operador \\* repite una lista de elementos un número dado de veces"
      ]
    },
    {
      "cell_type": "code",
      "execution_count": null,
      "metadata": {
        "id": "X5ZLqR8tCf7G"
      },
      "outputs": [],
      "source": [
        "list2"
      ]
    },
    {
      "cell_type": "code",
      "execution_count": null,
      "metadata": {
        "colab": {
          "base_uri": "https://localhost:8080/"
        },
        "id": "zq8WmJvBCf7G",
        "outputId": "b1dbc316-9192-4aed-f9a7-e1dd5d408370"
      },
      "outputs": [
        {
          "output_type": "execute_result",
          "data": {
            "text/plain": [
              "['hello', 2.0, 10, [10, ('hi', 'world'), 3.5], (1, 'uno')]"
            ]
          },
          "metadata": {},
          "execution_count": 62
        }
      ],
      "source": [
        "list3"
      ]
    },
    {
      "cell_type": "code",
      "execution_count": null,
      "metadata": {
        "id": "ZMmKHV8WCf7H"
      },
      "outputs": [],
      "source": [
        "list4 = list2 + list3"
      ]
    },
    {
      "cell_type": "code",
      "execution_count": null,
      "metadata": {
        "colab": {
          "base_uri": "https://localhost:8080/"
        },
        "id": "TCXvWuqxCf7H",
        "outputId": "71d69f97-fde3-454e-fab2-19ab11a9a118"
      },
      "outputs": [
        {
          "output_type": "execute_result",
          "data": {
            "text/plain": [
              "['spam',\n",
              " 'bungee',\n",
              " 'swallow',\n",
              " 'hello',\n",
              " 2.0,\n",
              " 10,\n",
              " [10, ('hi', 'world'), 3.5],\n",
              " (1, 'uno')]"
            ]
          },
          "metadata": {},
          "execution_count": 64
        }
      ],
      "source": [
        "list4"
      ]
    },
    {
      "cell_type": "code",
      "execution_count": null,
      "metadata": {
        "colab": {
          "base_uri": "https://localhost:8080/"
        },
        "id": "XaSHFBzOCf7H",
        "outputId": "7f349d92-326a-433e-8d54-12039b19b65e"
      },
      "outputs": [
        {
          "output_type": "execute_result",
          "data": {
            "text/plain": [
              "[0, 0, 0, 0, 0, 0, 0, 0, 0, 0]"
            ]
          },
          "metadata": {},
          "execution_count": 65
        }
      ],
      "source": [
        "[0]*10"
      ]
    },
    {
      "cell_type": "code",
      "execution_count": null,
      "metadata": {
        "id": "WdKXJ3Z7Cf7H"
      },
      "outputs": [],
      "source": [
        "a = [1, 2, 3]*4"
      ]
    },
    {
      "cell_type": "code",
      "execution_count": null,
      "metadata": {
        "colab": {
          "base_uri": "https://localhost:8080/"
        },
        "id": "awvt-VSzCf7H",
        "outputId": "e0c0793e-3490-4287-dead-88cd2a18d69c"
      },
      "outputs": [
        {
          "output_type": "execute_result",
          "data": {
            "text/plain": [
              "[1, 2, 3, 1, 2, 3, 1, 2, 3, 1, 2, 3]"
            ]
          },
          "metadata": {},
          "execution_count": 67
        }
      ],
      "source": [
        "a"
      ]
    },
    {
      "cell_type": "code",
      "execution_count": null,
      "metadata": {
        "id": "nIQuMQRrCf7H"
      },
      "outputs": [],
      "source": [
        "b = [a]*3"
      ]
    },
    {
      "cell_type": "code",
      "execution_count": null,
      "metadata": {
        "colab": {
          "base_uri": "https://localhost:8080/"
        },
        "id": "Kok7JdgMCf7H",
        "outputId": "c64413e2-9a66-44bc-88ad-a166bdbf5ead"
      },
      "outputs": [
        {
          "output_type": "execute_result",
          "data": {
            "text/plain": [
              "[[1, 2, 3, 1, 2, 3, 1, 2, 3, 1, 2, 3],\n",
              " [1, 2, 3, 1, 2, 3, 1, 2, 3, 1, 2, 3],\n",
              " [1, 2, 3, 1, 2, 3, 1, 2, 3, 1, 2, 3]]"
            ]
          },
          "metadata": {},
          "execution_count": 69
        }
      ],
      "source": [
        "b"
      ]
    },
    {
      "cell_type": "code",
      "execution_count": null,
      "metadata": {
        "id": "DH1uL-BpCf7I"
      },
      "outputs": [],
      "source": [
        "# 2-D list or matrix\n",
        "matrix = [[1, 2], [3, 4], [5, 6]]"
      ]
    },
    {
      "cell_type": "code",
      "execution_count": null,
      "metadata": {
        "colab": {
          "base_uri": "https://localhost:8080/"
        },
        "id": "ISSiB4aeCf7I",
        "outputId": "beee5460-e36b-489f-d856-4def5f5aa29d"
      },
      "outputs": [
        {
          "output_type": "stream",
          "name": "stdout",
          "text": [
            "[[1, 2], [3, 4], [5, 6]]\n"
          ]
        }
      ],
      "source": [
        "print(matrix)"
      ]
    },
    {
      "cell_type": "code",
      "execution_count": null,
      "metadata": {
        "colab": {
          "base_uri": "https://localhost:8080/"
        },
        "id": "vQZi7OcwCf7I",
        "outputId": "38e600cd-44fc-4314-aaf0-69befaac11ec"
      },
      "outputs": [
        {
          "output_type": "execute_result",
          "data": {
            "text/plain": [
              "[[1, 2], [3, 4], [5, 6]]"
            ]
          },
          "metadata": {},
          "execution_count": 72
        }
      ],
      "source": [
        "matrix"
      ]
    },
    {
      "cell_type": "code",
      "execution_count": null,
      "metadata": {
        "id": "_sZ94co6Cf7I"
      },
      "outputs": [],
      "source": [
        "# How do you replace 5 with 50 in matrix?\n",
        "matrix[2][0] = 50"
      ]
    },
    {
      "cell_type": "markdown",
      "source": [],
      "metadata": {
        "id": "fGNXgc-zI6gL"
      }
    },
    {
      "cell_type": "code",
      "execution_count": null,
      "metadata": {
        "colab": {
          "base_uri": "https://localhost:8080/"
        },
        "id": "5QsmE0wwCf7I",
        "outputId": "5e58a228-6700-4844-9c4a-3b7490aceac4"
      },
      "outputs": [
        {
          "output_type": "execute_result",
          "data": {
            "text/plain": [
              "[[1, 2], [3, 4], [50, 6]]"
            ]
          },
          "metadata": {},
          "execution_count": 74
        }
      ],
      "source": [
        "matrix"
      ]
    },
    {
      "cell_type": "markdown",
      "metadata": {
        "id": "RPw2vUrkCf7I"
      },
      "source": [
        "## 8.7 Listas de corte\n",
        "todas las operaciones de división que funcionan con cadenas también funcionan con listas\n",
        "\n",
        "sintaxis: [startIndex : endIndex : paso]\n",
        "\n",
        "startIndex es inclusivo; endIndex es exclusivo;\n",
        "el paso es opcional por defecto"
      ]
    },
    {
      "cell_type": "code",
      "execution_count": null,
      "metadata": {
        "id": "Z3Qgh0JsCf7J"
      },
      "outputs": [],
      "source": [
        "# create a list of lower-case alphabets\n",
        "alphas = ['a', 'b', 'c', 'd', 'e', 'f', 'g'] # add the rest..."
      ]
    },
    {
      "cell_type": "code",
      "execution_count": null,
      "metadata": {
        "colab": {
          "base_uri": "https://localhost:8080/"
        },
        "id": "-iRa-BEDCf7K",
        "outputId": "68344670-6296-43cd-de2d-44517b43982f"
      },
      "outputs": [
        {
          "output_type": "execute_result",
          "data": {
            "text/plain": [
              "['a', 'b', 'c', 'd', 'e', 'f', 'g']"
            ]
          },
          "metadata": {},
          "execution_count": 76
        }
      ],
      "source": [
        "alphas"
      ]
    },
    {
      "cell_type": "code",
      "execution_count": null,
      "metadata": {
        "id": "abgbSJ7MCf7K"
      },
      "outputs": [],
      "source": [
        "# there's better way to create lists of all lowercase ascii\n",
        "import string\n",
        "alphas = list(string.ascii_lowercase)"
      ]
    },
    {
      "cell_type": "code",
      "execution_count": null,
      "metadata": {
        "colab": {
          "base_uri": "https://localhost:8080/"
        },
        "id": "UaURRzPlCf7K",
        "outputId": "0b0b9356-761f-40af-b17c-1cb0d895a157"
      },
      "outputs": [
        {
          "output_type": "stream",
          "name": "stdout",
          "text": [
            "['a', 'b', 'c', 'd', 'e', 'f', 'g', 'h', 'i', 'j', 'k', 'l', 'm', 'n', 'o', 'p', 'q', 'r', 's', 't', 'u', 'v', 'w', 'x', 'y', 'z']\n"
          ]
        }
      ],
      "source": [
        "print(alphas[:])"
      ]
    },
    {
      "cell_type": "code",
      "execution_count": null,
      "metadata": {
        "colab": {
          "base_uri": "https://localhost:8080/"
        },
        "id": "BEDhQLukCf7L",
        "outputId": "a5f3a697-b08c-47da-cf8d-41c3b9b0fc25"
      },
      "outputs": [
        {
          "output_type": "stream",
          "name": "stdout",
          "text": [
            "['a', 'd', 'g', 'j', 'm', 'p', 's', 'v', 'y']\n"
          ]
        }
      ],
      "source": [
        "print(alphas[::3])"
      ]
    },
    {
      "cell_type": "code",
      "execution_count": null,
      "metadata": {
        "colab": {
          "base_uri": "https://localhost:8080/"
        },
        "id": "SvH3NmfWCf7L",
        "outputId": "2c56613d-3114-449d-ea48-0cf54b34bcf5"
      },
      "outputs": [
        {
          "output_type": "stream",
          "name": "stdout",
          "text": [
            "['b', 'c']\n"
          ]
        }
      ],
      "source": [
        "print(alphas[1:3])"
      ]
    },
    {
      "cell_type": "code",
      "execution_count": null,
      "metadata": {
        "colab": {
          "base_uri": "https://localhost:8080/"
        },
        "id": "rcymDANPCf7L",
        "outputId": "51c5a51a-a7b9-4437-f103-d77d2c633f1c"
      },
      "outputs": [
        {
          "output_type": "stream",
          "name": "stdout",
          "text": [
            "['z', 'y', 'x', 'w', 'v', 'u', 't', 's', 'r', 'q', 'p', 'o', 'n', 'm', 'l', 'k', 'j', 'i', 'h', 'g', 'f', 'e', 'd', 'c', 'b', 'a']\n"
          ]
        }
      ],
      "source": [
        "print(alphas[::-1])"
      ]
    },
    {
      "cell_type": "markdown",
      "metadata": {
        "id": "OqPzuZpnCf7M"
      },
      "source": [
        "## 8.8 Lists and strings\n",
        "- match made in heaven - work together really well :)"
      ]
    },
    {
      "cell_type": "code",
      "execution_count": null,
      "metadata": {
        "id": "32k8xg4ICf7M"
      },
      "outputs": [],
      "source": [
        "# convert string to list of characters\n",
        "alphaList = list(string.ascii_lowercase)"
      ]
    },
    {
      "cell_type": "code",
      "execution_count": null,
      "metadata": {
        "colab": {
          "base_uri": "https://localhost:8080/"
        },
        "id": "bKyuDFCICf7M",
        "outputId": "b5a7175e-87b9-4d65-d4ad-0bc8c135ceab"
      },
      "outputs": [
        {
          "output_type": "execute_result",
          "data": {
            "text/plain": [
              "['a',\n",
              " 'b',\n",
              " 'c',\n",
              " 'd',\n",
              " 'e',\n",
              " 'f',\n",
              " 'g',\n",
              " 'h',\n",
              " 'i',\n",
              " 'j',\n",
              " 'k',\n",
              " 'l',\n",
              " 'm',\n",
              " 'n',\n",
              " 'o',\n",
              " 'p',\n",
              " 'q',\n",
              " 'r',\n",
              " 's',\n",
              " 't',\n",
              " 'u',\n",
              " 'v',\n",
              " 'w',\n",
              " 'x',\n",
              " 'y',\n",
              " 'z']"
            ]
          },
          "metadata": {},
          "execution_count": 83
        }
      ],
      "source": [
        "alphaList"
      ]
    },
    {
      "cell_type": "code",
      "execution_count": null,
      "metadata": {
        "id": "Wltx4hijCf7M"
      },
      "outputs": [],
      "source": [
        "# convert list to string by joining pairs of chars with a delimiter\n",
        "alphaStr = '|'.join(alphaList)"
      ]
    },
    {
      "cell_type": "code",
      "execution_count": null,
      "metadata": {
        "colab": {
          "base_uri": "https://localhost:8080/",
          "height": 35
        },
        "id": "oCmykDeZCf7M",
        "outputId": "2c9075e2-4123-4fc8-a110-ba3ae63f7022"
      },
      "outputs": [
        {
          "output_type": "execute_result",
          "data": {
            "text/plain": [
              "'a|b|c|d|e|f|g|h|i|j|k|l|m|n|o|p|q|r|s|t|u|v|w|x|y|z'"
            ],
            "application/vnd.google.colaboratory.intrinsic+json": {
              "type": "string"
            }
          },
          "metadata": {},
          "execution_count": 85
        }
      ],
      "source": [
        "alphaStr"
      ]
    },
    {
      "cell_type": "markdown",
      "metadata": {
        "id": "LmTvDwJ7Cf7N"
      },
      "source": [
        "## 8.9 las listas son mutables\n",
        "podemos cambiar/reemplazar/actualizar los elementos de la lista en su lugar"
      ]
    },
    {
      "cell_type": "code",
      "execution_count": null,
      "metadata": {
        "id": "bnJQRhnaCf7N"
      },
      "outputs": [],
      "source": [
        "names = [\"john\", \"David\", \"Alice\"]\n",
        "names[0] = \"jake\""
      ]
    },
    {
      "cell_type": "code",
      "execution_count": null,
      "metadata": {
        "colab": {
          "base_uri": "https://localhost:8080/"
        },
        "id": "jdAMy2ZoCf7N",
        "outputId": "106a21bc-1839-41dd-8458-bc59557ef9e9"
      },
      "outputs": [
        {
          "output_type": "execute_result",
          "data": {
            "text/plain": [
              "['jake', 'David', 'Alice']"
            ]
          },
          "metadata": {},
          "execution_count": 87
        }
      ],
      "source": [
        "names"
      ]
    },
    {
      "cell_type": "code",
      "execution_count": null,
      "metadata": {
        "colab": {
          "base_uri": "https://localhost:8080/",
          "height": 35
        },
        "id": "oCVHByCCCf7N",
        "outputId": "4527b36f-cd3f-42fa-e722-01f49fed7c03"
      },
      "outputs": [
        {
          "output_type": "execute_result",
          "data": {
            "text/plain": [
              "'j'"
            ],
            "application/vnd.google.colaboratory.intrinsic+json": {
              "type": "string"
            }
          },
          "metadata": {},
          "execution_count": 88
        }
      ],
      "source": [
        "# How to correct spelling of jake?\n",
        "names[0][0]"
      ]
    },
    {
      "cell_type": "code",
      "execution_count": null,
      "metadata": {
        "colab": {
          "base_uri": "https://localhost:8080/",
          "height": 166
        },
        "id": "wg2bx9z5Cf7O",
        "outputId": "40dcae64-3cd8-41fc-92f0-80606987ffff"
      },
      "outputs": [
        {
          "output_type": "error",
          "ename": "TypeError",
          "evalue": "ignored",
          "traceback": [
            "\u001b[0;31m---------------------------------------------------------------------------\u001b[0m",
            "\u001b[0;31mTypeError\u001b[0m                                 Traceback (most recent call last)",
            "\u001b[0;32m<ipython-input-90-0442e9474c4b>\u001b[0m in \u001b[0;36m<cell line: 1>\u001b[0;34m()\u001b[0m\n\u001b[0;32m----> 1\u001b[0;31m \u001b[0mnames\u001b[0m\u001b[0;34m[\u001b[0m\u001b[0;36m0\u001b[0m\u001b[0;34m]\u001b[0m\u001b[0;34m[\u001b[0m\u001b[0;36m0\u001b[0m\u001b[0;34m]\u001b[0m \u001b[0;34m=\u001b[0m \u001b[0;34m'J'\u001b[0m\u001b[0;34m\u001b[0m\u001b[0;34m\u001b[0m\u001b[0m\n\u001b[0m",
            "\u001b[0;31mTypeError\u001b[0m: 'str' object does not support item assignment"
          ]
        }
      ],
      "source": [
        "names[0][0] = 'J'"
      ]
    },
    {
      "cell_type": "code",
      "execution_count": null,
      "metadata": {
        "id": "FeZ8a5X6Cf7O"
      },
      "outputs": [],
      "source": [
        "names[0] = 'Jake'"
      ]
    },
    {
      "cell_type": "code",
      "execution_count": null,
      "metadata": {
        "colab": {
          "base_uri": "https://localhost:8080/"
        },
        "id": "4KKAUxFfCf7O",
        "outputId": "a891a08b-6dfa-4aff-e4d2-d81e43d21dd9"
      },
      "outputs": [
        {
          "output_type": "execute_result",
          "data": {
            "text/plain": [
              "['Jake', 'David', 'Alice']"
            ]
          },
          "metadata": {},
          "execution_count": 92
        }
      ],
      "source": [
        "names"
      ]
    },
    {
      "cell_type": "code",
      "execution_count": null,
      "metadata": {
        "colab": {
          "base_uri": "https://localhost:8080/"
        },
        "id": "rSXe5iHNCf7O",
        "outputId": "a9deb232-ecae-458a-a5fb-dae3a242a146"
      },
      "outputs": [
        {
          "output_type": "execute_result",
          "data": {
            "text/plain": [
              "['a',\n",
              " 'b',\n",
              " 'c',\n",
              " 'd',\n",
              " 'e',\n",
              " 'f',\n",
              " 'g',\n",
              " 'h',\n",
              " 'i',\n",
              " 'j',\n",
              " 'k',\n",
              " 'l',\n",
              " 'm',\n",
              " 'n',\n",
              " 'o',\n",
              " 'p',\n",
              " 'q',\n",
              " 'r',\n",
              " 's',\n",
              " 't',\n",
              " 'u',\n",
              " 'v',\n",
              " 'w',\n",
              " 'x',\n",
              " 'y',\n",
              " 'z']"
            ]
          },
          "metadata": {},
          "execution_count": 94
        }
      ],
      "source": [
        "alphas"
      ]
    },
    {
      "cell_type": "code",
      "execution_count": null,
      "metadata": {
        "id": "9teWDuPSCf7P"
      },
      "outputs": [],
      "source": [
        "alphas[:4] = ['A', 'B', 'C', 'D']"
      ]
    },
    {
      "cell_type": "code",
      "execution_count": null,
      "metadata": {
        "colab": {
          "base_uri": "https://localhost:8080/"
        },
        "id": "PGHRJhgSCf7P",
        "outputId": "d014918e-3935-4734-9432-55431f474e5d"
      },
      "outputs": [
        {
          "output_type": "execute_result",
          "data": {
            "text/plain": [
              "['A',\n",
              " 'B',\n",
              " 'C',\n",
              " 'D',\n",
              " 'e',\n",
              " 'f',\n",
              " 'g',\n",
              " 'h',\n",
              " 'i',\n",
              " 'j',\n",
              " 'k',\n",
              " 'l',\n",
              " 'm',\n",
              " 'n',\n",
              " 'o',\n",
              " 'p',\n",
              " 'q',\n",
              " 'r',\n",
              " 's',\n",
              " 't',\n",
              " 'u',\n",
              " 'v',\n",
              " 'w',\n",
              " 'x',\n",
              " 'y',\n",
              " 'z']"
            ]
          },
          "metadata": {},
          "execution_count": 96
        }
      ],
      "source": [
        "alphas"
      ]
    },
    {
      "cell_type": "code",
      "execution_count": null,
      "metadata": {
        "id": "RTXG0PR7Cf7P"
      },
      "outputs": [],
      "source": [
        "alphas[:4] = []"
      ]
    },
    {
      "cell_type": "code",
      "execution_count": null,
      "metadata": {
        "colab": {
          "base_uri": "https://localhost:8080/"
        },
        "id": "33NUzFckCf7P",
        "outputId": "4f1c4ea0-29f6-4383-ef42-a367384db0f2"
      },
      "outputs": [
        {
          "output_type": "execute_result",
          "data": {
            "text/plain": [
              "['e',\n",
              " 'f',\n",
              " 'g',\n",
              " 'h',\n",
              " 'i',\n",
              " 'j',\n",
              " 'k',\n",
              " 'l',\n",
              " 'm',\n",
              " 'n',\n",
              " 'o',\n",
              " 'p',\n",
              " 'q',\n",
              " 'r',\n",
              " 's',\n",
              " 't',\n",
              " 'u',\n",
              " 'v',\n",
              " 'w',\n",
              " 'x',\n",
              " 'y',\n",
              " 'z']"
            ]
          },
          "metadata": {},
          "execution_count": 98
        }
      ],
      "source": [
        "alphas"
      ]
    },
    {
      "cell_type": "markdown",
      "metadata": {
        "id": "fB3wSY44Cf7P"
      },
      "source": [
        "## 8.10 Eliminación de elementos de la lista\n",
        "- la instrucción del elimina un elemento de una lista dado su índice"
      ]
    },
    {
      "cell_type": "code",
      "execution_count": null,
      "metadata": {
        "colab": {
          "base_uri": "https://localhost:8080/"
        },
        "id": "kHB93O6nCf7P",
        "outputId": "faa5041b-3805-45e1-a3a8-50db711bf980"
      },
      "outputs": [
        {
          "output_type": "execute_result",
          "data": {
            "text/plain": [
              "['e',\n",
              " 'f',\n",
              " 'g',\n",
              " 'h',\n",
              " 'i',\n",
              " 'j',\n",
              " 'k',\n",
              " 'l',\n",
              " 'm',\n",
              " 'n',\n",
              " 'o',\n",
              " 'p',\n",
              " 'q',\n",
              " 'r',\n",
              " 's',\n",
              " 't',\n",
              " 'u',\n",
              " 'v',\n",
              " 'w',\n",
              " 'x',\n",
              " 'y',\n",
              " 'z']"
            ]
          },
          "metadata": {},
          "execution_count": 99
        }
      ],
      "source": [
        "alphas"
      ]
    },
    {
      "cell_type": "code",
      "execution_count": null,
      "metadata": {
        "id": "B80xoYFNCf7P"
      },
      "outputs": [],
      "source": [
        "del alphas[0]"
      ]
    },
    {
      "cell_type": "code",
      "execution_count": null,
      "metadata": {
        "colab": {
          "base_uri": "https://localhost:8080/"
        },
        "id": "NQky0t9rCf7P",
        "outputId": "07ccdb4d-b9da-40ef-ff9b-41a0a2146d41"
      },
      "outputs": [
        {
          "output_type": "execute_result",
          "data": {
            "text/plain": [
              "['f',\n",
              " 'g',\n",
              " 'h',\n",
              " 'i',\n",
              " 'j',\n",
              " 'k',\n",
              " 'l',\n",
              " 'm',\n",
              " 'n',\n",
              " 'o',\n",
              " 'p',\n",
              " 'q',\n",
              " 'r',\n",
              " 's',\n",
              " 't',\n",
              " 'u',\n",
              " 'v',\n",
              " 'w',\n",
              " 'x',\n",
              " 'y',\n",
              " 'z']"
            ]
          },
          "metadata": {},
          "execution_count": 101
        }
      ],
      "source": [
        "alphas"
      ]
    },
    {
      "cell_type": "code",
      "execution_count": null,
      "metadata": {
        "colab": {
          "base_uri": "https://localhost:8080/",
          "height": 166
        },
        "id": "qi_0x8R9Cf7P",
        "outputId": "9b0afa80-e505-42da-eaec-2c54b764a165"
      },
      "outputs": [
        {
          "output_type": "error",
          "ename": "IndexError",
          "evalue": "ignored",
          "traceback": [
            "\u001b[0;31m---------------------------------------------------------------------------\u001b[0m",
            "\u001b[0;31mIndexError\u001b[0m                                Traceback (most recent call last)",
            "\u001b[0;32m<ipython-input-102-80e1a19bb44c>\u001b[0m in \u001b[0;36m<cell line: 1>\u001b[0;34m()\u001b[0m\n\u001b[0;32m----> 1\u001b[0;31m \u001b[0;32mdel\u001b[0m \u001b[0malphas\u001b[0m\u001b[0;34m[\u001b[0m\u001b[0;36m26\u001b[0m\u001b[0;34m]\u001b[0m\u001b[0;34m\u001b[0m\u001b[0;34m\u001b[0m\u001b[0m\n\u001b[0m",
            "\u001b[0;31mIndexError\u001b[0m: list assignment index out of range"
          ]
        }
      ],
      "source": [
        "del alphas[26]"
      ]
    },
    {
      "cell_type": "code",
      "execution_count": null,
      "metadata": {
        "colab": {
          "base_uri": "https://localhost:8080/"
        },
        "id": "7xNB3wmoCf7P",
        "outputId": "216e3498-7711-40c0-b0cf-047244ad3705"
      },
      "outputs": [
        {
          "output_type": "execute_result",
          "data": {
            "text/plain": [
              "20"
            ]
          },
          "metadata": {},
          "execution_count": 103
        }
      ],
      "source": [
        "alphas.index('z')"
      ]
    },
    {
      "cell_type": "code",
      "execution_count": null,
      "metadata": {
        "colab": {
          "base_uri": "https://localhost:8080/"
        },
        "id": "wZNMAZ7_Cf7Q",
        "outputId": "e31cb782-4a92-482d-d7cc-cf10e289a897"
      },
      "outputs": [
        {
          "output_type": "execute_result",
          "data": {
            "text/plain": [
              "20"
            ]
          },
          "metadata": {},
          "execution_count": 104
        }
      ],
      "source": [
        "alphas.index(alphas[-1])"
      ]
    },
    {
      "cell_type": "code",
      "execution_count": null,
      "metadata": {
        "id": "GUCOMZefCf7Q"
      },
      "outputs": [],
      "source": [
        "del alphas[1:3]"
      ]
    },
    {
      "cell_type": "code",
      "execution_count": null,
      "metadata": {
        "colab": {
          "base_uri": "https://localhost:8080/"
        },
        "id": "MP2U99ZyCf7Q",
        "outputId": "f9f2f781-83e9-4871-9b13-430763e962a6"
      },
      "outputs": [
        {
          "output_type": "execute_result",
          "data": {
            "text/plain": [
              "['f',\n",
              " 'i',\n",
              " 'j',\n",
              " 'k',\n",
              " 'l',\n",
              " 'm',\n",
              " 'n',\n",
              " 'o',\n",
              " 'p',\n",
              " 'q',\n",
              " 'r',\n",
              " 's',\n",
              " 't',\n",
              " 'u',\n",
              " 'v',\n",
              " 'w',\n",
              " 'x',\n",
              " 'y',\n",
              " 'z']"
            ]
          },
          "metadata": {},
          "execution_count": 106
        }
      ],
      "source": [
        "alphas"
      ]
    },
    {
      "cell_type": "code",
      "execution_count": null,
      "metadata": {
        "id": "bC5iWsEhCf7Q"
      },
      "outputs": [],
      "source": [
        "indexOfZ = alphas.index('z')\n",
        "del alphas[indexOfZ]"
      ]
    },
    {
      "cell_type": "code",
      "execution_count": null,
      "metadata": {
        "colab": {
          "base_uri": "https://localhost:8080/"
        },
        "id": "ptkqFkPtCf7Q",
        "outputId": "2718f6f9-9631-445c-c64e-f56213d5b031"
      },
      "outputs": [
        {
          "output_type": "stream",
          "name": "stdout",
          "text": [
            "['f', 'i', 'j', 'k', 'l', 'm', 'n', 'o', 'p', 'q', 'r', 's', 't', 'u', 'v', 'w', 'x', 'y']\n"
          ]
        }
      ],
      "source": [
        "print(alphas)"
      ]
    },
    {
      "cell_type": "markdown",
      "metadata": {
        "id": "q9HHbuZFCf7Q"
      },
      "source": [
        "## 8.11 Objetos y referencias\n",
        "- El operador **is** se puede usar para probar si dos objetos hacen referencia a la misma ubicación de memoria\n",
        "     - lo que significa que son esencialmente el mismo objeto con los mismos valores"
      ]
    },
    {
      "cell_type": "code",
      "execution_count": null,
      "metadata": {
        "colab": {
          "base_uri": "https://localhost:8080/"
        },
        "id": "sxQjndJUCf7Q",
        "outputId": "027f08a2-019b-4a01-eb68-22ba268fe97d"
      },
      "outputs": [
        {
          "output_type": "execute_result",
          "data": {
            "text/plain": [
              "True"
            ]
          },
          "metadata": {},
          "execution_count": 109
        }
      ],
      "source": [
        "# even though a and b are two separate objects is still evaluates to True\n",
        "a = 'apple'\n",
        "b = 'apple'\n",
        "a is b"
      ]
    },
    {
      "cell_type": "code",
      "execution_count": null,
      "metadata": {
        "colab": {
          "base_uri": "https://localhost:8080/"
        },
        "id": "E5-Bbn_MCf7Q",
        "outputId": "b48e907d-1132-464f-83ec-76f9987789cf"
      },
      "outputs": [
        {
          "output_type": "execute_result",
          "data": {
            "text/plain": [
              "True"
            ]
          },
          "metadata": {},
          "execution_count": 110
        }
      ],
      "source": [
        "# even though c and d are two separate objects is still evaluates to True\n",
        "c = 10\n",
        "d = 10\n",
        "c is d"
      ]
    },
    {
      "cell_type": "code",
      "execution_count": null,
      "metadata": {
        "colab": {
          "base_uri": "https://localhost:8080/"
        },
        "id": "ToDgvX26Cf7Q",
        "outputId": "81848652-cb28-4400-db91-11fd89cc659e"
      },
      "outputs": [
        {
          "output_type": "stream",
          "name": "stdout",
          "text": [
            "True\n",
            "False\n"
          ]
        }
      ],
      "source": [
        "# what abut tuple?\n",
        "e = (1, 2)\n",
        "f = (1, 2)\n",
        "print(e == f)\n",
        "print(e is f)"
      ]
    },
    {
      "cell_type": "code",
      "execution_count": null,
      "metadata": {
        "colab": {
          "base_uri": "https://localhost:8080/"
        },
        "id": "3Tm0FaWoCf7Q",
        "outputId": "04f04191-9d1c-4fe1-9976-a0690d713491"
      },
      "outputs": [
        {
          "output_type": "stream",
          "name": "stdout",
          "text": [
            "True\n",
            "False\n"
          ]
        }
      ],
      "source": [
        "# What about lists?\n",
        "l1 = [1, 2, 3]\n",
        "l2 = [1, 2, 3]\n",
        "print(l1 == l2)\n",
        "print(l1 is l2)"
      ]
    },
    {
      "cell_type": "markdown",
      "metadata": {
        "id": "CEY6RDoiCf7Q"
      },
      "source": [
        "## 8.12 Copying lists (Shallow copy vs Deep copy)\n",
        "- see [PythonTutor.com to visualize aliasing](http://pythontutor.com/visualize.html#code=import%20copy%0A%0Aa%20%3D%20%5B1,%20%5B2,%203%5D%5D%0Ab%20%3D%20a%0Ac%20%3D%20a.copy%28%29%0Ad%20%3D%20a%5B%3A%5D%0Af%20%3D%20copy.deepcopy%28a%29&cumulative=false&curInstr=0&heapPrimitives=false&mode=display&origin=opt-frontend.js&py=3&rawInputLstJSON=%5B%5D&textReferences=false)\n",
        "- assignment *=* operator does shallow copy"
      ]
    },
    {
      "cell_type": "code",
      "execution_count": null,
      "metadata": {
        "colab": {
          "base_uri": "https://localhost:8080/"
        },
        "id": "rsBAsEplCf7R",
        "outputId": "3f5e4ac9-6c40-4f5b-831a-d2574f709e1a"
      },
      "outputs": [
        {
          "output_type": "stream",
          "name": "stdout",
          "text": [
            "True\n",
            "True\n"
          ]
        }
      ],
      "source": [
        "a = [1, 2, 3]\n",
        "b = a\n",
        "print(a is b)\n",
        "print(a == b)"
      ]
    },
    {
      "cell_type": "code",
      "execution_count": null,
      "metadata": {
        "colab": {
          "base_uri": "https://localhost:8080/"
        },
        "id": "SSuCRT8UCf7R",
        "outputId": "e117e911-37eb-4653-8b7e-6e020adb2524"
      },
      "outputs": [
        {
          "output_type": "stream",
          "name": "stdout",
          "text": [
            "[10, 2, 3]\n",
            "[10, 2, 3]\n"
          ]
        }
      ],
      "source": [
        "b[0] = 10\n",
        "print(a)\n",
        "print(b)"
      ]
    },
    {
      "cell_type": "code",
      "execution_count": null,
      "metadata": {
        "id": "1qMKpA8SCf7R"
      },
      "outputs": [],
      "source": [
        "# How do you actually clone lists - do a deep copy?\n",
        "c = a[:] # easy way shallow copy\n",
        "d = a.copy() # shallow copy\n",
        "import copy\n",
        "e = copy.deepcopy(b)"
      ]
    },
    {
      "cell_type": "code",
      "execution_count": null,
      "metadata": {
        "colab": {
          "base_uri": "https://localhost:8080/"
        },
        "id": "nsZsPgDZCf7R",
        "outputId": "50a1c26e-2a36-45d6-ac26-5b9352b6c1da"
      },
      "outputs": [
        {
          "output_type": "execute_result",
          "data": {
            "text/plain": [
              "False"
            ]
          },
          "metadata": {},
          "execution_count": 116
        }
      ],
      "source": [
        "c is a"
      ]
    },
    {
      "cell_type": "code",
      "execution_count": null,
      "metadata": {
        "colab": {
          "base_uri": "https://localhost:8080/"
        },
        "id": "rm7I2iEmCf7R",
        "outputId": "4161e1bf-538c-47a8-a004-9f3d2f8d7bec"
      },
      "outputs": [
        {
          "output_type": "execute_result",
          "data": {
            "text/plain": [
              "False"
            ]
          },
          "metadata": {},
          "execution_count": 117
        }
      ],
      "source": [
        "d is a"
      ]
    },
    {
      "cell_type": "code",
      "execution_count": null,
      "metadata": {
        "colab": {
          "base_uri": "https://localhost:8080/"
        },
        "id": "kaIUSUWcCf7R",
        "outputId": "e6601f14-3cfd-4918-8131-1401e5edcb3b"
      },
      "outputs": [
        {
          "output_type": "execute_result",
          "data": {
            "text/plain": [
              "False"
            ]
          },
          "metadata": {},
          "execution_count": 118
        }
      ],
      "source": [
        "b is e"
      ]
    },
    {
      "cell_type": "markdown",
      "metadata": {
        "id": "jX2Hud3BCf7R"
      },
      "source": [
        "## 8.13 List methods\n",
        "- list objects have a bunch methods that can be invoked to work with list\n",
        "- run help(list)"
      ]
    },
    {
      "cell_type": "code",
      "execution_count": null,
      "metadata": {
        "colab": {
          "base_uri": "https://localhost:8080/"
        },
        "id": "PDfQCnX3Cf7R",
        "outputId": "1ebcba8a-42b8-4ed4-e6d1-9c4f5e8ef993"
      },
      "outputs": [
        {
          "output_type": "stream",
          "name": "stdout",
          "text": [
            "Help on class list in module builtins:\n",
            "\n",
            "class list(object)\n",
            " |  list(iterable=(), /)\n",
            " |  \n",
            " |  Built-in mutable sequence.\n",
            " |  \n",
            " |  If no argument is given, the constructor creates a new empty list.\n",
            " |  The argument must be an iterable if specified.\n",
            " |  \n",
            " |  Methods defined here:\n",
            " |  \n",
            " |  __add__(self, value, /)\n",
            " |      Return self+value.\n",
            " |  \n",
            " |  __contains__(self, key, /)\n",
            " |      Return key in self.\n",
            " |  \n",
            " |  __delitem__(self, key, /)\n",
            " |      Delete self[key].\n",
            " |  \n",
            " |  __eq__(self, value, /)\n",
            " |      Return self==value.\n",
            " |  \n",
            " |  __ge__(self, value, /)\n",
            " |      Return self>=value.\n",
            " |  \n",
            " |  __getattribute__(self, name, /)\n",
            " |      Return getattr(self, name).\n",
            " |  \n",
            " |  __getitem__(...)\n",
            " |      x.__getitem__(y) <==> x[y]\n",
            " |  \n",
            " |  __gt__(self, value, /)\n",
            " |      Return self>value.\n",
            " |  \n",
            " |  __iadd__(self, value, /)\n",
            " |      Implement self+=value.\n",
            " |  \n",
            " |  __imul__(self, value, /)\n",
            " |      Implement self*=value.\n",
            " |  \n",
            " |  __init__(self, /, *args, **kwargs)\n",
            " |      Initialize self.  See help(type(self)) for accurate signature.\n",
            " |  \n",
            " |  __iter__(self, /)\n",
            " |      Implement iter(self).\n",
            " |  \n",
            " |  __le__(self, value, /)\n",
            " |      Return self<=value.\n",
            " |  \n",
            " |  __len__(self, /)\n",
            " |      Return len(self).\n",
            " |  \n",
            " |  __lt__(self, value, /)\n",
            " |      Return self<value.\n",
            " |  \n",
            " |  __mul__(self, value, /)\n",
            " |      Return self*value.\n",
            " |  \n",
            " |  __ne__(self, value, /)\n",
            " |      Return self!=value.\n",
            " |  \n",
            " |  __repr__(self, /)\n",
            " |      Return repr(self).\n",
            " |  \n",
            " |  __reversed__(self, /)\n",
            " |      Return a reverse iterator over the list.\n",
            " |  \n",
            " |  __rmul__(self, value, /)\n",
            " |      Return value*self.\n",
            " |  \n",
            " |  __setitem__(self, key, value, /)\n",
            " |      Set self[key] to value.\n",
            " |  \n",
            " |  __sizeof__(self, /)\n",
            " |      Return the size of the list in memory, in bytes.\n",
            " |  \n",
            " |  append(self, object, /)\n",
            " |      Append object to the end of the list.\n",
            " |  \n",
            " |  clear(self, /)\n",
            " |      Remove all items from list.\n",
            " |  \n",
            " |  copy(self, /)\n",
            " |      Return a shallow copy of the list.\n",
            " |  \n",
            " |  count(self, value, /)\n",
            " |      Return number of occurrences of value.\n",
            " |  \n",
            " |  extend(self, iterable, /)\n",
            " |      Extend list by appending elements from the iterable.\n",
            " |  \n",
            " |  index(self, value, start=0, stop=9223372036854775807, /)\n",
            " |      Return first index of value.\n",
            " |      \n",
            " |      Raises ValueError if the value is not present.\n",
            " |  \n",
            " |  insert(self, index, object, /)\n",
            " |      Insert object before index.\n",
            " |  \n",
            " |  pop(self, index=-1, /)\n",
            " |      Remove and return item at index (default last).\n",
            " |      \n",
            " |      Raises IndexError if list is empty or index is out of range.\n",
            " |  \n",
            " |  remove(self, value, /)\n",
            " |      Remove first occurrence of value.\n",
            " |      \n",
            " |      Raises ValueError if the value is not present.\n",
            " |  \n",
            " |  reverse(self, /)\n",
            " |      Reverse *IN PLACE*.\n",
            " |  \n",
            " |  sort(self, /, *, key=None, reverse=False)\n",
            " |      Sort the list in ascending order and return None.\n",
            " |      \n",
            " |      The sort is in-place (i.e. the list itself is modified) and stable (i.e. the\n",
            " |      order of two equal elements is maintained).\n",
            " |      \n",
            " |      If a key function is given, apply it once to each list item and sort them,\n",
            " |      ascending or descending, according to their function values.\n",
            " |      \n",
            " |      The reverse flag can be set to sort in descending order.\n",
            " |  \n",
            " |  ----------------------------------------------------------------------\n",
            " |  Class methods defined here:\n",
            " |  \n",
            " |  __class_getitem__(...) from builtins.type\n",
            " |      See PEP 585\n",
            " |  \n",
            " |  ----------------------------------------------------------------------\n",
            " |  Static methods defined here:\n",
            " |  \n",
            " |  __new__(*args, **kwargs) from builtins.type\n",
            " |      Create and return a new object.  See help(type) for accurate signature.\n",
            " |  \n",
            " |  ----------------------------------------------------------------------\n",
            " |  Data and other attributes defined here:\n",
            " |  \n",
            " |  __hash__ = None\n",
            "\n"
          ]
        }
      ],
      "source": [
        "help(list)"
      ]
    },
    {
      "cell_type": "code",
      "execution_count": null,
      "metadata": {
        "id": "Bk9PxHHWCf7R"
      },
      "outputs": [],
      "source": [
        "a = []\n",
        "a.append(1)\n",
        "a.append(2)\n",
        "a.append([2, 3])"
      ]
    },
    {
      "cell_type": "code",
      "execution_count": null,
      "metadata": {
        "colab": {
          "base_uri": "https://localhost:8080/"
        },
        "id": "hMQMDOlJCf7R",
        "outputId": "c8c93ddf-57a4-4e4d-a02e-fd4182e8c84a"
      },
      "outputs": [
        {
          "output_type": "execute_result",
          "data": {
            "text/plain": [
              "[1, 2, [2, 3]]"
            ]
          },
          "metadata": {},
          "execution_count": 121
        }
      ],
      "source": [
        "a"
      ]
    },
    {
      "cell_type": "code",
      "execution_count": null,
      "metadata": {
        "id": "HAF-BcWJCf7R"
      },
      "outputs": [],
      "source": [
        "a.extend([3, 4])"
      ]
    },
    {
      "cell_type": "code",
      "execution_count": null,
      "metadata": {
        "colab": {
          "base_uri": "https://localhost:8080/"
        },
        "id": "TdOpwBgVCf7R",
        "outputId": "0167cc97-d499-413d-d2ce-ea1be1cb1136"
      },
      "outputs": [
        {
          "output_type": "execute_result",
          "data": {
            "text/plain": [
              "[1, 2, [2, 3], 3, 4]"
            ]
          },
          "metadata": {},
          "execution_count": 123
        }
      ],
      "source": [
        "a"
      ]
    },
    {
      "cell_type": "code",
      "execution_count": null,
      "metadata": {
        "id": "HgwVK8KaCf7S"
      },
      "outputs": [],
      "source": [
        "a.append([5, 6])"
      ]
    },
    {
      "cell_type": "code",
      "execution_count": null,
      "metadata": {
        "colab": {
          "base_uri": "https://localhost:8080/"
        },
        "id": "d9DJQpCWCf7S",
        "outputId": "202a9f66-add9-42f2-9ee9-35a23a9759f2"
      },
      "outputs": [
        {
          "output_type": "execute_result",
          "data": {
            "text/plain": [
              "[1, 2, [2, 3], 3, 4, [5, 6]]"
            ]
          },
          "metadata": {},
          "execution_count": 125
        }
      ],
      "source": [
        "a"
      ]
    },
    {
      "cell_type": "code",
      "execution_count": null,
      "metadata": {
        "id": "iZE6lKezCf7S"
      },
      "outputs": [],
      "source": [
        "a.insert(0, 'hi')"
      ]
    },
    {
      "cell_type": "code",
      "execution_count": null,
      "metadata": {
        "colab": {
          "base_uri": "https://localhost:8080/"
        },
        "id": "pLtonY3_Cf7S",
        "outputId": "cbe50472-5a91-4e82-bc33-83a3da3a4385"
      },
      "outputs": [
        {
          "output_type": "execute_result",
          "data": {
            "text/plain": [
              "['hi', 1, 2, [2, 3], 3, 4, [5, 6]]"
            ]
          },
          "metadata": {},
          "execution_count": 127
        }
      ],
      "source": [
        "a"
      ]
    },
    {
      "cell_type": "code",
      "execution_count": null,
      "metadata": {
        "id": "iimzb2UlCf7S"
      },
      "outputs": [],
      "source": [
        "a.reverse()"
      ]
    },
    {
      "cell_type": "code",
      "execution_count": null,
      "metadata": {
        "id": "QgKoLm9OCf7S"
      },
      "outputs": [],
      "source": [
        "a[0].reverse()"
      ]
    },
    {
      "cell_type": "code",
      "execution_count": null,
      "metadata": {
        "colab": {
          "base_uri": "https://localhost:8080/"
        },
        "id": "TnnOwZ_QCf7S",
        "outputId": "a2a40db1-11a3-453b-bc81-d007538635b0"
      },
      "outputs": [
        {
          "output_type": "execute_result",
          "data": {
            "text/plain": [
              "[[6, 5], 4, 3, [2, 3], 2, 1, 'hi']"
            ]
          },
          "metadata": {},
          "execution_count": 130
        }
      ],
      "source": [
        "a"
      ]
    },
    {
      "cell_type": "code",
      "execution_count": null,
      "metadata": {
        "colab": {
          "base_uri": "https://localhost:8080/",
          "height": 166
        },
        "id": "sqWhbDskCf7S",
        "outputId": "1d4fa769-f945-4556-c79c-ee07a4867bf3"
      },
      "outputs": [
        {
          "output_type": "error",
          "ename": "TypeError",
          "evalue": "ignored",
          "traceback": [
            "\u001b[0;31m---------------------------------------------------------------------------\u001b[0m",
            "\u001b[0;31mTypeError\u001b[0m                                 Traceback (most recent call last)",
            "\u001b[0;32m<ipython-input-134-2ed0d7de6146>\u001b[0m in \u001b[0;36m<cell line: 1>\u001b[0;34m()\u001b[0m\n\u001b[0;32m----> 1\u001b[0;31m \u001b[0ma\u001b[0m\u001b[0;34m.\u001b[0m\u001b[0msort\u001b[0m\u001b[0;34m(\u001b[0m\u001b[0;34m)\u001b[0m\u001b[0;34m\u001b[0m\u001b[0;34m\u001b[0m\u001b[0m\n\u001b[0m",
            "\u001b[0;31mTypeError\u001b[0m: '<' not supported between instances of 'int' and 'list'"
          ]
        }
      ],
      "source": [
        "a.sort()"
      ]
    },
    {
      "cell_type": "code",
      "execution_count": null,
      "metadata": {
        "id": "2QvuJprZCf7S"
      },
      "outputs": [],
      "source": [
        "blist = list(range(10, 0, -1))"
      ]
    },
    {
      "cell_type": "code",
      "execution_count": null,
      "metadata": {
        "colab": {
          "base_uri": "https://localhost:8080/"
        },
        "id": "5jY4-CU9Cf7S",
        "outputId": "bff170e3-d7af-46ae-f4ff-eb6f166886b1"
      },
      "outputs": [
        {
          "output_type": "execute_result",
          "data": {
            "text/plain": [
              "[10, 9, 8, 7, 6, 5, 4, 3, 2, 1]"
            ]
          },
          "metadata": {},
          "execution_count": 133
        }
      ],
      "source": [
        "blist"
      ]
    },
    {
      "cell_type": "code",
      "execution_count": null,
      "metadata": {
        "id": "AxXfhZWCCf7S"
      },
      "outputs": [],
      "source": [
        "blist.sort()"
      ]
    },
    {
      "cell_type": "code",
      "execution_count": null,
      "metadata": {
        "colab": {
          "base_uri": "https://localhost:8080/"
        },
        "id": "9l8Y9DAwCf7S",
        "outputId": "84c6d9e7-9f97-44da-c740-0f54bf237781"
      },
      "outputs": [
        {
          "output_type": "stream",
          "name": "stdout",
          "text": [
            "[1, 2, 3, 4, 5, 6, 7, 8, 9, 10]\n"
          ]
        }
      ],
      "source": [
        "print(blist)"
      ]
    },
    {
      "cell_type": "code",
      "execution_count": null,
      "metadata": {
        "id": "Ih9eIF8ACf7S"
      },
      "outputs": [],
      "source": [
        "blist.sort(reverse=True)"
      ]
    },
    {
      "cell_type": "code",
      "execution_count": null,
      "metadata": {
        "colab": {
          "base_uri": "https://localhost:8080/"
        },
        "id": "1tujYkRtCf7T",
        "outputId": "813d8c76-d021-4f27-f6f8-f286f7fff64c"
      },
      "outputs": [
        {
          "output_type": "execute_result",
          "data": {
            "text/plain": [
              "[10, 9, 8, 7, 6, 5, 4, 3, 2, 1]"
            ]
          },
          "metadata": {},
          "execution_count": 139
        }
      ],
      "source": [
        "blist"
      ]
    },
    {
      "cell_type": "code",
      "execution_count": null,
      "metadata": {
        "id": "7JyrJ0XeCf7T"
      },
      "outputs": [],
      "source": [
        "m = max(blist)\n",
        "mI = blist.index(m)"
      ]
    },
    {
      "cell_type": "code",
      "execution_count": null,
      "metadata": {
        "colab": {
          "base_uri": "https://localhost:8080/"
        },
        "id": "MvBYZM14Cf7T",
        "outputId": "73346ab3-7060-450f-dc54-097e0620fd6a"
      },
      "outputs": [
        {
          "output_type": "stream",
          "name": "stdout",
          "text": [
            "0\n"
          ]
        }
      ],
      "source": [
        "print(mI)"
      ]
    },
    {
      "cell_type": "code",
      "execution_count": null,
      "metadata": {
        "colab": {
          "base_uri": "https://localhost:8080/"
        },
        "id": "7Oqub2BiCf7T",
        "outputId": "99bb6686-ee26-4903-982b-89e36ac0bff2"
      },
      "outputs": [
        {
          "output_type": "execute_result",
          "data": {
            "text/plain": [
              "1"
            ]
          },
          "metadata": {},
          "execution_count": 142
        }
      ],
      "source": [
        "min(blist)"
      ]
    },
    {
      "cell_type": "code",
      "execution_count": null,
      "metadata": {
        "colab": {
          "base_uri": "https://localhost:8080/"
        },
        "id": "W0QyBinxCf7T",
        "outputId": "579129ce-ad07-42a5-8a56-581ff11bf7c9"
      },
      "outputs": [
        {
          "output_type": "stream",
          "name": "stdout",
          "text": [
            "0\n"
          ]
        }
      ],
      "source": [
        "print(blist.count(100))"
      ]
    },
    {
      "cell_type": "markdown",
      "metadata": {
        "id": "SBM1q3ZwCf7T"
      },
      "source": [
        "## 8.14 List applications\n",
        "\n",
        "### convert a string to list of integers"
      ]
    },
    {
      "cell_type": "code",
      "execution_count": null,
      "metadata": {
        "colab": {
          "base_uri": "https://localhost:8080/"
        },
        "id": "A5mp9k3NCf7T",
        "outputId": "cdf38dcc-e1bf-4ad8-bda7-a3b1b657c906"
      },
      "outputs": [
        {
          "name": "stdout",
          "output_type": "stream",
          "text": [
            "Enter 5 numbers separated by space: 4 3 7 8 9\n"
          ]
        }
      ],
      "source": [
        "nums = input('Enter 5 numbers separated by space: ')"
      ]
    },
    {
      "cell_type": "code",
      "execution_count": null,
      "metadata": {
        "colab": {
          "base_uri": "https://localhost:8080/",
          "height": 35
        },
        "id": "OajYDKw9Cf7T",
        "outputId": "224b0478-f1d1-4c72-9f1f-e8723b147843"
      },
      "outputs": [
        {
          "output_type": "execute_result",
          "data": {
            "text/plain": [
              "'4 3 7 8 9'"
            ],
            "application/vnd.google.colaboratory.intrinsic+json": {
              "type": "string"
            }
          },
          "metadata": {},
          "execution_count": 148
        }
      ],
      "source": [
        "nums"
      ]
    },
    {
      "cell_type": "code",
      "execution_count": null,
      "metadata": {
        "id": "ziv-tT-tCf7T"
      },
      "outputs": [],
      "source": [
        "nums = nums.split(' ')"
      ]
    },
    {
      "cell_type": "code",
      "execution_count": null,
      "metadata": {
        "colab": {
          "base_uri": "https://localhost:8080/"
        },
        "id": "RxkJM1rQCf7T",
        "outputId": "b4305f37-aede-411f-99cb-1953be473aaa"
      },
      "outputs": [
        {
          "output_type": "execute_result",
          "data": {
            "text/plain": [
              "['4', '3', '7', '8', '9']"
            ]
          },
          "metadata": {},
          "execution_count": 150
        }
      ],
      "source": [
        "nums"
      ]
    },
    {
      "cell_type": "code",
      "execution_count": null,
      "metadata": {
        "id": "WMQZsJKWCf7T"
      },
      "outputs": [],
      "source": [
        "intNums = []\n",
        "for n in nums:\n",
        "    intN = int(n)\n",
        "    intNums.append(intN)"
      ]
    },
    {
      "cell_type": "code",
      "execution_count": null,
      "metadata": {
        "colab": {
          "base_uri": "https://localhost:8080/"
        },
        "id": "PK3ddAllCf7U",
        "outputId": "50d3d733-c97d-4033-8f59-718a7f611fb9"
      },
      "outputs": [
        {
          "output_type": "execute_result",
          "data": {
            "text/plain": [
              "[4, 3, 7, 8, 9]"
            ]
          },
          "metadata": {},
          "execution_count": 152
        }
      ],
      "source": [
        "intNums"
      ]
    },
    {
      "cell_type": "code",
      "execution_count": null,
      "metadata": {
        "id": "SIKL5EVaCf7U"
      },
      "outputs": [],
      "source": [
        "intNums.sort()"
      ]
    },
    {
      "cell_type": "code",
      "execution_count": null,
      "metadata": {
        "colab": {
          "base_uri": "https://localhost:8080/"
        },
        "id": "T1kuWow6Cf7U",
        "outputId": "a90ace7f-f287-43ca-c063-8bef91eab7d6"
      },
      "outputs": [
        {
          "output_type": "execute_result",
          "data": {
            "text/plain": [
              "[3, 4, 7, 8, 9]"
            ]
          },
          "metadata": {},
          "execution_count": 154
        }
      ],
      "source": [
        "intNums"
      ]
    },
    {
      "cell_type": "markdown",
      "metadata": {
        "id": "satXUSi-Cf7U"
      },
      "source": [
        "### convert list of integers to string"
      ]
    },
    {
      "cell_type": "code",
      "execution_count": null,
      "metadata": {
        "id": "VzUF_HJECf7U"
      },
      "outputs": [],
      "source": [
        "strNum = []\n",
        "for n in intNums:\n",
        "    strNum.append(str(n))"
      ]
    },
    {
      "cell_type": "code",
      "execution_count": null,
      "metadata": {
        "colab": {
          "base_uri": "https://localhost:8080/"
        },
        "id": "JQ6WGZTTCf7U",
        "outputId": "f341eeb6-2742-445f-ee11-1a66aa28d033"
      },
      "outputs": [
        {
          "output_type": "execute_result",
          "data": {
            "text/plain": [
              "['3', '4', '7', '8', '9']"
            ]
          },
          "metadata": {},
          "execution_count": 158
        }
      ],
      "source": [
        "strNum"
      ]
    },
    {
      "cell_type": "code",
      "execution_count": null,
      "metadata": {
        "id": "oIHTUvvaCf7U"
      },
      "outputs": [],
      "source": [
        "strNum = ' '.join(strNum)"
      ]
    },
    {
      "cell_type": "code",
      "execution_count": null,
      "metadata": {
        "colab": {
          "base_uri": "https://localhost:8080/"
        },
        "id": "HSlNfrtmCf7U",
        "outputId": "68499e91-30cc-450c-afb7-0fc1e0eb72a0"
      },
      "outputs": [
        {
          "output_type": "execute_result",
          "data": {
            "text/plain": [
              "['3', '4', '7', '8', '9']"
            ]
          },
          "metadata": {},
          "execution_count": 159
        }
      ],
      "source": [
        "strNum"
      ]
    },
    {
      "cell_type": "markdown",
      "metadata": {
        "id": "WOJ9UqXpCf7U"
      },
      "source": [
        "## 8.15 Passing list to function - pass-by-reference\n",
        "- mutable types such as list are passed-by-reference\n",
        "- an alias or reference is passed instead of a copy of the data"
      ]
    },
    {
      "cell_type": "code",
      "execution_count": null,
      "metadata": {
        "id": "zT0lcxbNCf7U"
      },
      "outputs": [],
      "source": [
        "def getData(someList):# someList is formal parameter\n",
        "    for i in range(5):\n",
        "        a = int(input('enter a number: '))\n",
        "        someList.append(a)"
      ]
    },
    {
      "cell_type": "code",
      "execution_count": null,
      "metadata": {
        "colab": {
          "base_uri": "https://localhost:8080/"
        },
        "id": "sZ8AWiqSCf7V",
        "outputId": "6e4b5a9d-d094-4491-bb1f-2dc620b2c60e"
      },
      "outputs": [
        {
          "name": "stdout",
          "output_type": "stream",
          "text": [
            "enter a number: 3\n",
            "enter a number: 5\n",
            "enter a number: 7\n",
            "enter a number: 8\n",
            "enter a number: 2\n"
          ]
        }
      ],
      "source": [
        "alist = []\n",
        "getData(alist) # alist is actual argument"
      ]
    },
    {
      "cell_type": "code",
      "execution_count": null,
      "metadata": {
        "colab": {
          "base_uri": "https://localhost:8080/"
        },
        "id": "xHe2Ti99Cf7V",
        "outputId": "d9ab9f54-e039-44ae-e466-af84d76385c9"
      },
      "outputs": [
        {
          "output_type": "execute_result",
          "data": {
            "text/plain": [
              "[3, 5, 7, 8, 2]"
            ]
          },
          "metadata": {},
          "execution_count": 164
        }
      ],
      "source": [
        "# when formal parameter is updated, actual parameter is also updated\n",
        "alist"
      ]
    },
    {
      "cell_type": "markdown",
      "metadata": {
        "id": "gJopvbbrCf7V"
      },
      "source": [
        "### [visualize - pass-by-reference with pythontutor.com](http://pythontutor.com/visualize.html#code=def%20getData%28someList%29%3A%23%20someList%20is%20formal%20parameter%0A%20%20%20%20for%20i%20in%20range%285%29%3A%0A%20%20%20%20%20%20%20%20a%20%3D%20int%28input%28'enter%20a%20number%3A%20'%29%29%0A%20%20%20%20%20%20%20%20someList.append%28a%29%0A%0Aalist%20%3D%20%5B%5D%0AgetData%28alist%29%20%23%20alist%20is%20actual%20argument&cumulative=false&curInstr=0&heapPrimitives=false&mode=display&origin=opt-frontend.js&py=3&rawInputLstJSON=%5B%5D&textReferences=false)"
      ]
    },
    {
      "cell_type": "markdown",
      "metadata": {
        "id": "wcstMLOcCf7V"
      },
      "source": [
        "## 8.16 return list from functions\n",
        "- lists can be returned from functions"
      ]
    },
    {
      "cell_type": "code",
      "execution_count": null,
      "metadata": {
        "id": "LY1D9sWqCf7V"
      },
      "outputs": [],
      "source": [
        "def getMaxMin(alist):\n",
        "    m = max(alist)\n",
        "    minVal = min(alist)\n",
        "    return [m, minVal]\n"
      ]
    },
    {
      "cell_type": "code",
      "execution_count": null,
      "metadata": {
        "colab": {
          "base_uri": "https://localhost:8080/"
        },
        "id": "2Q3g0qiNCf7W",
        "outputId": "4e603885-428b-46fc-fbf1-5170f2c3db39"
      },
      "outputs": [
        {
          "output_type": "stream",
          "name": "stdout",
          "text": [
            "[1999999, -1000]\n"
          ]
        }
      ],
      "source": [
        "alist = list(range(-1000, 2000000))\n",
        "print(getMaxMin(alist))"
      ]
    },
    {
      "cell_type": "code",
      "execution_count": null,
      "metadata": {
        "id": "fQy8wNBoCf7X"
      },
      "outputs": [],
      "source": [
        "assert getMaxMin(alist) == [1999999, -1000]"
      ]
    },
    {
      "cell_type": "markdown",
      "metadata": {
        "id": "iFdR4EqSCf7X"
      },
      "source": [
        "## 8.17 Casting lista en tupla y viceversa\n",
        "- dado que las tuplas son inmutables, puede ser beneficioso convertirlas en listas y actualizarlas\n",
        "- puede volver a convertir la lista a tupla nuevamente"
      ]
    },
    {
      "cell_type": "code",
      "execution_count": null,
      "metadata": {
        "colab": {
          "base_uri": "https://localhost:8080/"
        },
        "id": "qmxR-7e7Cf7X",
        "outputId": "83dfab55-1016-4d06-d756-8b2281930465"
      },
      "outputs": [
        {
          "output_type": "stream",
          "name": "stdout",
          "text": [
            "[1, 2, 3]\n"
          ]
        }
      ],
      "source": [
        "atuple = (1, 2, 3)\n",
        "alist = list(atuple)\n",
        "print(alist)"
      ]
    },
    {
      "cell_type": "code",
      "execution_count": null,
      "metadata": {
        "id": "UcMsBvPPCf7X"
      },
      "outputs": [],
      "source": [
        "btuple = tuple(alist)"
      ]
    },
    {
      "cell_type": "code",
      "execution_count": null,
      "metadata": {
        "colab": {
          "base_uri": "https://localhost:8080/"
        },
        "id": "WhEYBVPCCf7X",
        "outputId": "a25606e3-9b06-4455-d1ee-71e5e8e32d49"
      },
      "outputs": [
        {
          "output_type": "stream",
          "name": "stdout",
          "text": [
            "(1, 2, 3)\n"
          ]
        }
      ],
      "source": [
        "print(btuple)"
      ]
    },
    {
      "cell_type": "code",
      "execution_count": null,
      "metadata": {
        "colab": {
          "base_uri": "https://localhost:8080/"
        },
        "id": "boV-1Ic1Cf7X",
        "outputId": "c5af4600-6d6e-4e07-87e3-bd8d28ed3a57"
      },
      "outputs": [
        {
          "output_type": "execute_result",
          "data": {
            "text/plain": [
              "True"
            ]
          },
          "metadata": {},
          "execution_count": 171
        }
      ],
      "source": [
        "atuple == btuple"
      ]
    },
    {
      "cell_type": "code",
      "execution_count": null,
      "metadata": {
        "colab": {
          "base_uri": "https://localhost:8080/"
        },
        "id": "wX8cupQMCf7X",
        "outputId": "5b2a6d2f-7187-4b45-ae3b-c986b6531d7a"
      },
      "outputs": [
        {
          "output_type": "stream",
          "name": "stdout",
          "text": [
            "(1, 2, 3) [1, 2, 3]\n",
            "False\n"
          ]
        }
      ],
      "source": [
        "# eventhough the elements are equal; the types of two objects are not\n",
        "print(atuple, alist)\n",
        "print(atuple == alist)"
      ]
    },
    {
      "cell_type": "markdown",
      "metadata": {
        "id": "4DirOosUCf7X"
      },
      "source": [
        "## 8.18 Exercises\n",
        "1. Realiza un programa que calcula la suma de todos los elementos de una lista\n",
        "\n"
      ]
    },
    {
      "cell_type": "code",
      "source": [
        "lista = [5, 10]\n",
        "\n",
        "\n",
        "\n",
        "print(\"La suma de los elementos de la lista es:\", suma)"
      ],
      "metadata": {
        "colab": {
          "base_uri": "https://localhost:8080/"
        },
        "id": "uDEhLMHBKWIs",
        "outputId": "b934fbd4-b136-4ff7-a273-99c5cc57ab5d"
      },
      "execution_count": null,
      "outputs": [
        {
          "output_type": "stream",
          "name": "stdout",
          "text": [
            "La suma de los elementos de la lista es: 15\n"
          ]
        }
      ]
    },
    {
      "cell_type": "markdown",
      "source": [
        "2. Realiza un programa que encuentra el número máximo en una lista de números\n",
        "\n"
      ],
      "metadata": {
        "id": "eWxsD0bOKgZN"
      }
    },
    {
      "cell_type": "code",
      "source": [
        "lista = [17, 12, 25, 8, 31, 19]\n",
        "\n",
        "\n",
        "\n",
        "print(\"El número máximo en la lista es:\", maximo)"
      ],
      "metadata": {
        "colab": {
          "base_uri": "https://localhost:8080/"
        },
        "id": "7wWGB7q9KaIT",
        "outputId": "e499b6f2-d7c6-4c50-c1e7-c3cee9e6d3ca"
      },
      "execution_count": null,
      "outputs": [
        {
          "output_type": "stream",
          "name": "stdout",
          "text": [
            "El número máximo en la lista es: 31\n"
          ]
        }
      ]
    },
    {
      "cell_type": "code",
      "execution_count": null,
      "metadata": {
        "id": "bvyr6i_aCf7Y"
      },
      "outputs": [],
      "source": []
    }
  ],
  "metadata": {
    "kernelspec": {
      "display_name": "Python 3",
      "language": "python",
      "name": "python3"
    },
    "language_info": {
      "codemirror_mode": {
        "name": "ipython",
        "version": 3
      },
      "file_extension": ".py",
      "mimetype": "text/x-python",
      "name": "python",
      "nbconvert_exporter": "python",
      "pygments_lexer": "ipython3",
      "version": "3.7.3"
    },
    "colab": {
      "provenance": [],
      "include_colab_link": true
    }
  },
  "nbformat": 4,
  "nbformat_minor": 0
}